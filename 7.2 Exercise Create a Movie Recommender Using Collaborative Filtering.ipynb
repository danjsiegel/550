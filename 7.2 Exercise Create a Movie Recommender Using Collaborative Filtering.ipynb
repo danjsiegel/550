{
 "cells": [
  {
   "cell_type": "code",
   "execution_count": 103,
   "metadata": {},
   "outputs": [],
   "source": [
    "import pandas as pd\n",
    "import numpy as np\n",
    "import scipy \n",
    "import matplotlib.pyplot as plt\n",
    "from sklearn.metrics.pairwise import cosine_similarity\n",
    "from sklearn.metrics import pairwise_distances\n",
    "from scipy.spatial.distance import cosine, correlation"
   ]
  },
  {
   "cell_type": "code",
   "execution_count": 174,
   "metadata": {},
   "outputs": [],
   "source": [
    "test_ratings = [\n",
    "    ('Lethal Weapon (1987)',4),\n",
    "    ('Natural Born Killers (1994)',3),\n",
    "    ('Inception (2010)',0),\n",
    "    ('Heat (1995)',0),\n",
    "    ('Finding Nemo (2003)',3),\n",
    "    ('Office Space (1999)',1),\n",
    "    ('Home Alone (1990)',0),\n",
    "    ('High Fidelity (2000)',2),\n",
    "    ('Donnie Darko (2001)',3),\n",
    "    ('Lion King, The (1994)',2)\n",
    "]"
   ]
  },
  {
   "cell_type": "code",
   "execution_count": 47,
   "metadata": {},
   "outputs": [],
   "source": [
    "movie_ratings = pd.read_csv('data\\\\movielens\\\\ratings.csv')\n",
    "movies = pd.read_csv('data\\\\movielens\\\\movies.csv')"
   ]
  },
  {
   "cell_type": "code",
   "execution_count": 31,
   "metadata": {},
   "outputs": [
    {
     "data": {
      "text/html": [
       "<div>\n",
       "<style scoped>\n",
       "    .dataframe tbody tr th:only-of-type {\n",
       "        vertical-align: middle;\n",
       "    }\n",
       "\n",
       "    .dataframe tbody tr th {\n",
       "        vertical-align: top;\n",
       "    }\n",
       "\n",
       "    .dataframe thead th {\n",
       "        text-align: right;\n",
       "    }\n",
       "</style>\n",
       "<table border=\"1\" class=\"dataframe\">\n",
       "  <thead>\n",
       "    <tr style=\"text-align: right;\">\n",
       "      <th></th>\n",
       "      <th>userId</th>\n",
       "      <th>movieId</th>\n",
       "      <th>rating</th>\n",
       "      <th>timestamp</th>\n",
       "    </tr>\n",
       "  </thead>\n",
       "  <tbody>\n",
       "    <tr>\n",
       "      <th>0</th>\n",
       "      <td>1</td>\n",
       "      <td>31</td>\n",
       "      <td>2.5</td>\n",
       "      <td>1260759144</td>\n",
       "    </tr>\n",
       "    <tr>\n",
       "      <th>1</th>\n",
       "      <td>1</td>\n",
       "      <td>1029</td>\n",
       "      <td>3.0</td>\n",
       "      <td>1260759179</td>\n",
       "    </tr>\n",
       "    <tr>\n",
       "      <th>2</th>\n",
       "      <td>1</td>\n",
       "      <td>1061</td>\n",
       "      <td>3.0</td>\n",
       "      <td>1260759182</td>\n",
       "    </tr>\n",
       "    <tr>\n",
       "      <th>3</th>\n",
       "      <td>1</td>\n",
       "      <td>1129</td>\n",
       "      <td>2.0</td>\n",
       "      <td>1260759185</td>\n",
       "    </tr>\n",
       "    <tr>\n",
       "      <th>4</th>\n",
       "      <td>1</td>\n",
       "      <td>1172</td>\n",
       "      <td>4.0</td>\n",
       "      <td>1260759205</td>\n",
       "    </tr>\n",
       "  </tbody>\n",
       "</table>\n",
       "</div>"
      ],
      "text/plain": [
       "   userId  movieId  rating   timestamp\n",
       "0       1       31     2.5  1260759144\n",
       "1       1     1029     3.0  1260759179\n",
       "2       1     1061     3.0  1260759182\n",
       "3       1     1129     2.0  1260759185\n",
       "4       1     1172     4.0  1260759205"
      ]
     },
     "execution_count": 31,
     "metadata": {},
     "output_type": "execute_result"
    }
   ],
   "source": [
    "movie_ratings.head()"
   ]
  },
  {
   "cell_type": "code",
   "execution_count": 50,
   "metadata": {},
   "outputs": [],
   "source": [
    "df = pd.merge(movie_ratings, movies, on='movieId')"
   ]
  },
  {
   "cell_type": "code",
   "execution_count": 57,
   "metadata": {},
   "outputs": [],
   "source": [
    "movie_matrix = df.pivot_table(index='userId', columns='title', values='rating')"
   ]
  },
  {
   "cell_type": "code",
   "execution_count": 95,
   "metadata": {},
   "outputs": [],
   "source": [
    "ratings = pd.DataFrame(df.groupby('title')['rating'].mean())\n",
    "ratings['num_ratings'] = pd.DataFrame(df.groupby('title')['rating'].count())"
   ]
  },
  {
   "cell_type": "code",
   "execution_count": 97,
   "metadata": {},
   "outputs": [
    {
     "data": {
      "text/html": [
       "<div>\n",
       "<style scoped>\n",
       "    .dataframe tbody tr th:only-of-type {\n",
       "        vertical-align: middle;\n",
       "    }\n",
       "\n",
       "    .dataframe tbody tr th {\n",
       "        vertical-align: top;\n",
       "    }\n",
       "\n",
       "    .dataframe thead th {\n",
       "        text-align: right;\n",
       "    }\n",
       "</style>\n",
       "<table border=\"1\" class=\"dataframe\">\n",
       "  <thead>\n",
       "    <tr style=\"text-align: right;\">\n",
       "      <th></th>\n",
       "      <th>rating</th>\n",
       "      <th>num_ratings</th>\n",
       "    </tr>\n",
       "    <tr>\n",
       "      <th>title</th>\n",
       "      <th></th>\n",
       "      <th></th>\n",
       "    </tr>\n",
       "  </thead>\n",
       "  <tbody>\n",
       "    <tr>\n",
       "      <th>\"Great Performances\" Cats (1998)</th>\n",
       "      <td>1.750000</td>\n",
       "      <td>2</td>\n",
       "    </tr>\n",
       "    <tr>\n",
       "      <th>$9.99 (2008)</th>\n",
       "      <td>3.833333</td>\n",
       "      <td>3</td>\n",
       "    </tr>\n",
       "    <tr>\n",
       "      <th>'Hellboy': The Seeds of Creation (2004)</th>\n",
       "      <td>2.000000</td>\n",
       "      <td>1</td>\n",
       "    </tr>\n",
       "    <tr>\n",
       "      <th>'Neath the Arizona Skies (1934)</th>\n",
       "      <td>0.500000</td>\n",
       "      <td>1</td>\n",
       "    </tr>\n",
       "    <tr>\n",
       "      <th>'Round Midnight (1986)</th>\n",
       "      <td>2.250000</td>\n",
       "      <td>2</td>\n",
       "    </tr>\n",
       "  </tbody>\n",
       "</table>\n",
       "</div>"
      ],
      "text/plain": [
       "                                           rating  num_ratings\n",
       "title                                                         \n",
       "\"Great Performances\" Cats (1998)         1.750000            2\n",
       "$9.99 (2008)                             3.833333            3\n",
       "'Hellboy': The Seeds of Creation (2004)  2.000000            1\n",
       "'Neath the Arizona Skies (1934)          0.500000            1\n",
       "'Round Midnight (1986)                   2.250000            2"
      ]
     },
     "execution_count": 97,
     "metadata": {},
     "output_type": "execute_result"
    }
   ],
   "source": [
    "ratings.head()"
   ]
  },
  {
   "cell_type": "code",
   "execution_count": 101,
   "metadata": {},
   "outputs": [],
   "source": [
    "movie_matrix.fillna(0, inplace=True)"
   ]
  },
  {
   "cell_type": "code",
   "execution_count": 109,
   "metadata": {},
   "outputs": [
    {
     "name": "stderr",
     "output_type": "stream",
     "text": [
      "C:\\Anaconda\\lib\\site-packages\\ipykernel_launcher.py:1: FutureWarning: Method .as_matrix will be removed in a future version. Use .values instead.\n",
      "  \"\"\"Entry point for launching an IPython kernel.\n"
     ]
    },
    {
     "data": {
      "text/html": [
       "<div>\n",
       "<style scoped>\n",
       "    .dataframe tbody tr th:only-of-type {\n",
       "        vertical-align: middle;\n",
       "    }\n",
       "\n",
       "    .dataframe tbody tr th {\n",
       "        vertical-align: top;\n",
       "    }\n",
       "\n",
       "    .dataframe thead th {\n",
       "        text-align: right;\n",
       "    }\n",
       "</style>\n",
       "<table border=\"1\" class=\"dataframe\">\n",
       "  <thead>\n",
       "    <tr style=\"text-align: right;\">\n",
       "      <th></th>\n",
       "      <th>0</th>\n",
       "      <th>1</th>\n",
       "      <th>2</th>\n",
       "      <th>3</th>\n",
       "      <th>4</th>\n",
       "      <th>5</th>\n",
       "      <th>6</th>\n",
       "      <th>7</th>\n",
       "      <th>8</th>\n",
       "      <th>9</th>\n",
       "      <th>...</th>\n",
       "      <th>661</th>\n",
       "      <th>662</th>\n",
       "      <th>663</th>\n",
       "      <th>664</th>\n",
       "      <th>665</th>\n",
       "      <th>666</th>\n",
       "      <th>667</th>\n",
       "      <th>668</th>\n",
       "      <th>669</th>\n",
       "      <th>670</th>\n",
       "    </tr>\n",
       "  </thead>\n",
       "  <tbody>\n",
       "    <tr>\n",
       "      <th>0</th>\n",
       "      <td>0.000000</td>\n",
       "      <td>0.000000</td>\n",
       "      <td>0.000000</td>\n",
       "      <td>0.074482</td>\n",
       "      <td>0.016818</td>\n",
       "      <td>0.000000</td>\n",
       "      <td>0.083884</td>\n",
       "      <td>0.000000</td>\n",
       "      <td>0.012843</td>\n",
       "      <td>0.000000</td>\n",
       "      <td>...</td>\n",
       "      <td>0.000000</td>\n",
       "      <td>0.000000</td>\n",
       "      <td>0.014481</td>\n",
       "      <td>0.043719</td>\n",
       "      <td>0.000000</td>\n",
       "      <td>0.000000</td>\n",
       "      <td>0.000000</td>\n",
       "      <td>0.062917</td>\n",
       "      <td>0.000000</td>\n",
       "      <td>0.017466</td>\n",
       "    </tr>\n",
       "    <tr>\n",
       "      <th>1</th>\n",
       "      <td>0.000000</td>\n",
       "      <td>0.000000</td>\n",
       "      <td>0.124295</td>\n",
       "      <td>0.118821</td>\n",
       "      <td>0.103646</td>\n",
       "      <td>0.000000</td>\n",
       "      <td>0.212985</td>\n",
       "      <td>0.113190</td>\n",
       "      <td>0.113333</td>\n",
       "      <td>0.043213</td>\n",
       "      <td>...</td>\n",
       "      <td>0.477306</td>\n",
       "      <td>0.063202</td>\n",
       "      <td>0.077784</td>\n",
       "      <td>0.164162</td>\n",
       "      <td>0.466281</td>\n",
       "      <td>0.425462</td>\n",
       "      <td>0.084646</td>\n",
       "      <td>0.024140</td>\n",
       "      <td>0.170595</td>\n",
       "      <td>0.113175</td>\n",
       "    </tr>\n",
       "    <tr>\n",
       "      <th>2</th>\n",
       "      <td>0.000000</td>\n",
       "      <td>0.124295</td>\n",
       "      <td>0.000000</td>\n",
       "      <td>0.081640</td>\n",
       "      <td>0.151531</td>\n",
       "      <td>0.060691</td>\n",
       "      <td>0.154714</td>\n",
       "      <td>0.249781</td>\n",
       "      <td>0.134475</td>\n",
       "      <td>0.114672</td>\n",
       "      <td>...</td>\n",
       "      <td>0.161205</td>\n",
       "      <td>0.064198</td>\n",
       "      <td>0.176222</td>\n",
       "      <td>0.158357</td>\n",
       "      <td>0.177098</td>\n",
       "      <td>0.124562</td>\n",
       "      <td>0.124911</td>\n",
       "      <td>0.080984</td>\n",
       "      <td>0.136606</td>\n",
       "      <td>0.170193</td>\n",
       "    </tr>\n",
       "    <tr>\n",
       "      <th>3</th>\n",
       "      <td>0.074482</td>\n",
       "      <td>0.118821</td>\n",
       "      <td>0.081640</td>\n",
       "      <td>0.000000</td>\n",
       "      <td>0.130649</td>\n",
       "      <td>0.079648</td>\n",
       "      <td>0.319745</td>\n",
       "      <td>0.191013</td>\n",
       "      <td>0.030417</td>\n",
       "      <td>0.137186</td>\n",
       "      <td>...</td>\n",
       "      <td>0.114319</td>\n",
       "      <td>0.047228</td>\n",
       "      <td>0.136647</td>\n",
       "      <td>0.254030</td>\n",
       "      <td>0.121905</td>\n",
       "      <td>0.088735</td>\n",
       "      <td>0.068483</td>\n",
       "      <td>0.104309</td>\n",
       "      <td>0.054512</td>\n",
       "      <td>0.211609</td>\n",
       "    </tr>\n",
       "    <tr>\n",
       "      <th>4</th>\n",
       "      <td>0.016818</td>\n",
       "      <td>0.103646</td>\n",
       "      <td>0.151531</td>\n",
       "      <td>0.130649</td>\n",
       "      <td>0.000000</td>\n",
       "      <td>0.063796</td>\n",
       "      <td>0.095888</td>\n",
       "      <td>0.165712</td>\n",
       "      <td>0.086616</td>\n",
       "      <td>0.032370</td>\n",
       "      <td>...</td>\n",
       "      <td>0.191029</td>\n",
       "      <td>0.021142</td>\n",
       "      <td>0.146246</td>\n",
       "      <td>0.224245</td>\n",
       "      <td>0.139721</td>\n",
       "      <td>0.058252</td>\n",
       "      <td>0.042926</td>\n",
       "      <td>0.038358</td>\n",
       "      <td>0.062642</td>\n",
       "      <td>0.225086</td>\n",
       "    </tr>\n",
       "  </tbody>\n",
       "</table>\n",
       "<p>5 rows × 671 columns</p>\n",
       "</div>"
      ],
      "text/plain": [
       "        0         1         2         3         4         5         6    \\\n",
       "0  0.000000  0.000000  0.000000  0.074482  0.016818  0.000000  0.083884   \n",
       "1  0.000000  0.000000  0.124295  0.118821  0.103646  0.000000  0.212985   \n",
       "2  0.000000  0.124295  0.000000  0.081640  0.151531  0.060691  0.154714   \n",
       "3  0.074482  0.118821  0.081640  0.000000  0.130649  0.079648  0.319745   \n",
       "4  0.016818  0.103646  0.151531  0.130649  0.000000  0.063796  0.095888   \n",
       "\n",
       "        7         8         9      ...          661       662       663  \\\n",
       "0  0.000000  0.012843  0.000000    ...     0.000000  0.000000  0.014481   \n",
       "1  0.113190  0.113333  0.043213    ...     0.477306  0.063202  0.077784   \n",
       "2  0.249781  0.134475  0.114672    ...     0.161205  0.064198  0.176222   \n",
       "3  0.191013  0.030417  0.137186    ...     0.114319  0.047228  0.136647   \n",
       "4  0.165712  0.086616  0.032370    ...     0.191029  0.021142  0.146246   \n",
       "\n",
       "        664       665       666       667       668       669       670  \n",
       "0  0.043719  0.000000  0.000000  0.000000  0.062917  0.000000  0.017466  \n",
       "1  0.164162  0.466281  0.425462  0.084646  0.024140  0.170595  0.113175  \n",
       "2  0.158357  0.177098  0.124562  0.124911  0.080984  0.136606  0.170193  \n",
       "3  0.254030  0.121905  0.088735  0.068483  0.104309  0.054512  0.211609  \n",
       "4  0.224245  0.139721  0.058252  0.042926  0.038358  0.062642  0.225086  \n",
       "\n",
       "[5 rows x 671 columns]"
      ]
     },
     "execution_count": 109,
     "metadata": {},
     "output_type": "execute_result"
    }
   ],
   "source": [
    "movie_similarity = 1 - pairwise_distances(movie_matrix.as_matrix(), metric=\"cosine\" )\n",
    "np.fill_diagonal( movie_similarity, 0 ) #Filling diagonals with 0s for future use when sorting is done\n",
    "ratings_matrix = pd.DataFrame(movie_similarity)\n",
    "ratings_matrix.head(5)"
   ]
  },
  {
   "cell_type": "code",
   "execution_count": 136,
   "metadata": {},
   "outputs": [],
   "source": [
    "'''\n",
    "def recommender(users_ratings, all_movies):\n",
    "    \n",
    "    lw = movie_matrix['Lethal Weapon (1987)']\n",
    "    similar_to_lw = movie_matrix.corrwith(lw)\n",
    "    corr_to_lw = pd.DataFrame(similar_to_lw, columns=['Correlation'])\n",
    "    corr_to_lw = corr_to_lw.join(ratings.num_ratings)\n",
    "    recommendation = corr_to_lw.sort_values('Correlation', ascending=False).iloc[1].name\n",
    "'''"
   ]
  },
  {
   "cell_type": "code",
   "execution_count": 325,
   "metadata": {},
   "outputs": [],
   "source": [
    "def recommender(users_ratings, all_movies):\n",
    "    all_users_movies = []\n",
    "    all_user_movies_to_check = []\n",
    "    recommended_movies = []\n",
    "    for movie, rating in users_ratings:\n",
    "        all_users_movies.append(movie)\n",
    "        #recommends similar movies for movies the user gave 3 or higher to \n",
    "        if rating >=3:\n",
    "            all_user_movies_to_check.append(movie)\n",
    "    for movies in all_user_movies_to_check:\n",
    "        movie_specific_matrix = all_movies[movies]\n",
    "        similar_spe_mm = all_movies.corrwith(movie_specific_matrix)\n",
    "        corr_to_mm = pd.DataFrame(similar_spe_mm, columns=['Correlation'])\n",
    "        #find 1 recommendation per list that is neither the movie itself nor in the list of movies \n",
    "        i = 0\n",
    "        recommendation = corr_to_mm.sort_values('Correlation', ascending=False).iloc[i].name\n",
    "        while recommendation in all_users_movies:\n",
    "            i = i + 1\n",
    "            recommendation = corr_to_mm.sort_values('Correlation', ascending=False).iloc[i].name\n",
    "        recommended_movies.append('Because of movie: '+ movies+ ' we recommend: ' +recommendation)\n",
    "    print(recommended_movies)"
   ]
  },
  {
   "cell_type": "code",
   "execution_count": 176,
   "metadata": {},
   "outputs": [
    {
     "data": {
      "text/plain": [
       "['Because of movie: Lethal Weapon (1987) we recommend: Lethal Weapon 2 (1989)',\n",
       " 'Because of movie: Natural Born Killers (1994) we recommend: Crow, The (1994)',\n",
       " 'Because of movie: Finding Nemo (2003) we recommend: Incredibles, The (2004)',\n",
       " 'Because of movie: Donnie Darko (2001) we recommend: Eternal Sunshine of the Spotless Mind (2004)']"
      ]
     },
     "execution_count": 176,
     "metadata": {},
     "output_type": "execute_result"
    }
   ],
   "source": [
    "recommender(test_ratings, movie_matrix)"
   ]
  },
  {
   "cell_type": "markdown",
   "metadata": {},
   "source": [
    "# 2. Movie Search Engine\n",
    "\n",
    "Now that you have a recommendation engine, you need to provide a way for users to find movies to rate. You will need to create a function that takes in a search parameter and returns a ranked list of movies that best matches the input. For this data set, there are less than 10,000 movies and you only need to worry about searching the titles for those movies. Therefore, we do not need to worry as much about coming up with an optimal solution that scales for larger datasets.\n",
    "\n",
    "When returning candidate movie titles, you will want to return the titles with that match the search input with the highest probability. Consider dividing up the titles and the user input into n-grams, but instead of using n-grams of works, the n-grams are characters in the string.\n",
    "\n",
    "For example, the title Batman contains the bigrams, [‘ba’, ‘tm’, ‘an’, ‘at’, ‘ma’]. You could then match that input title to titles that contain those bigrams with the highest probability. Find a search method that generally returns correct recommendations based off the search input."
   ]
  },
  {
   "cell_type": "code",
   "execution_count": 178,
   "metadata": {},
   "outputs": [
    {
     "name": "stdout",
     "output_type": "stream",
     "text": [
      "Enter name dan\n"
     ]
    }
   ],
   "source": []
  },
  {
   "cell_type": "code",
   "execution_count": 226,
   "metadata": {},
   "outputs": [],
   "source": [
    "import re\n",
    "from difflib import SequenceMatcher\n"
   ]
  },
  {
   "cell_type": "code",
   "execution_count": 227,
   "metadata": {},
   "outputs": [],
   "source": [
    "def ngrams(string, n=3):\n",
    "    string = re.sub(r'[,-./]|\\s',r'', string)\n",
    "    ngrams = zip(*[string[i:] for i in range(n)])\n",
    "    return [''.join(ngram) for ngram in ngrams]\n",
    "def similar(a, b):\n",
    "    return SequenceMatcher(None, a, b).ratio()"
   ]
  },
  {
   "cell_type": "code",
   "execution_count": 259,
   "metadata": {},
   "outputs": [],
   "source": [
    "def search_engine(user_input, values):\n",
    "    similarity_scores = []\n",
    "    for value in values.index.tolist():\n",
    "        score = similar(ngrams(user_input), ngrams(value))\n",
    "        similarity_scores.append((value, score))\n",
    "    scored_similar = pd.DataFrame(similarity_scores, columns=['name', 'score'])\n",
    "    results = scored_similar.sort_values('score', ascending=False).name.head(5).tolist()\n",
    "    return results"
   ]
  },
  {
   "cell_type": "code",
   "execution_count": 261,
   "metadata": {},
   "outputs": [
    {
     "data": {
      "text/plain": [
       "['Batman (1989)',\n",
       " 'Batman (1966)',\n",
       " 'Batman & Robin (1997)',\n",
       " 'Batman Begins (2005)',\n",
       " 'Batman Returns (1992)']"
      ]
     },
     "execution_count": 261,
     "metadata": {},
     "output_type": "execute_result"
    }
   ],
   "source": [
    "search_engine('Batman', ratings)"
   ]
  },
  {
   "cell_type": "markdown",
   "metadata": {},
   "source": [
    "# 3. Movie Recommendation Application\n",
    "\n",
    "In this part, you create an interactive movie recommendation application by combining the movie recommendation engine and the movie search engine. To accomplish this, you will create a simple command line application. Upon starting the application, you should ask the user to find a movie to rate. It should return a list of numbered movies or an “I don’t see what I’m looking for” option.\n",
    "\n"
   ]
  },
  {
   "cell_type": "code",
   "execution_count": 328,
   "metadata": {},
   "outputs": [],
   "source": [
    "def rec_app(movie_list):\n",
    "    find_movie = input('Enter movie ')\n",
    "    possible_movies = search_engine(find_movie, movie_list)\n",
    "    for i in range(len(possible_movies)):\n",
    "        print('Press ', i + 1, 'For', possible_movies[i])\n",
    "    print('Press 6 For I don\\'t see what I\\'m looking for')\n",
    "    rec_by_title = input('What number:')\n",
    "    rec_by_title_number = input('What did you think of it 1-5:')\n",
    "    if (int(rec_by_title) <= 5):\n",
    "        title = possible_movies[int(rec_by_title)-1]\n",
    "        user_rec = [(title,int(rec_by_title_number))]\n",
    "        recommender(user_rec, movie_matrix)\n",
    "        "
   ]
  },
  {
   "cell_type": "code",
   "execution_count": 332,
   "metadata": {},
   "outputs": [
    {
     "name": "stdout",
     "output_type": "stream",
     "text": [
      "Enter movie Lethal Weapon\n",
      "Press  1 For Lethal Weapon (1987)\n",
      "Press  2 For Lethal Weapon 2 (1989)\n",
      "Press  3 For Lethal Weapon 3 (1992)\n",
      "Press  4 For Lethal Weapon 4 (1998)\n",
      "Press  5 For Legendary Weapons of China (1982)\n",
      "Press 6 For I don't see what I'm looking for\n",
      "What number:1\n",
      "What did you think of it 1-5:5\n",
      "['Because of movie: Lethal Weapon (1987) we recommend: Lethal Weapon 2 (1989)']\n"
     ]
    }
   ],
   "source": [
    "rec_app(ratings)"
   ]
  },
  {
   "cell_type": "code",
   "execution_count": 333,
   "metadata": {},
   "outputs": [
    {
     "name": "stdout",
     "output_type": "stream",
     "text": [
      "Enter movie Natural Born Killers\n",
      "Press  1 For Natural Born Killers (1994)\n",
      "Press  2 For Killers (2010)\n",
      "Press  3 For Killers, The (1964)\n",
      "Press  4 For Natural, The (1984)\n",
      "Press  5 For Killers, The (1946)\n",
      "Press 6 For I don't see what I'm looking for\n",
      "What number:1\n",
      "What did you think of it 1-5:5\n",
      "['Because of movie: Natural Born Killers (1994) we recommend: Crow, The (1994)']\n"
     ]
    }
   ],
   "source": [
    "rec_app(ratings)"
   ]
  },
  {
   "cell_type": "code",
   "execution_count": 321,
   "metadata": {},
   "outputs": [],
   "source": []
  }
 ],
 "metadata": {
  "kernelspec": {
   "display_name": "Python 3",
   "language": "python",
   "name": "python3"
  },
  "language_info": {
   "codemirror_mode": {
    "name": "ipython",
    "version": 3
   },
   "file_extension": ".py",
   "mimetype": "text/x-python",
   "name": "python",
   "nbconvert_exporter": "python",
   "pygments_lexer": "ipython3",
   "version": "3.6.5"
  }
 },
 "nbformat": 4,
 "nbformat_minor": 2
}
